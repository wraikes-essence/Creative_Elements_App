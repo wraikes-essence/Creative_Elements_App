{
 "cells": [
  {
   "cell_type": "code",
   "execution_count": 137,
   "metadata": {},
   "outputs": [],
   "source": [
    "import numpy as np, pandas as pd, os, matplotlib.pyplot as plt\n",
    "pd.set_option(\"display.max_columns\", 100)\n",
    "pd.set_option(\"display.max_rows\", 1000)\n",
    "%matplotlib inline"
   ]
  },
  {
   "cell_type": "code",
   "execution_count": 138,
   "metadata": {},
   "outputs": [],
   "source": [
    "df_raw = pd.read_csv(r\"G:\\My Drive\\Creative_Meta_Analysis\\Wave_2\\SUMMARY_3.csv\")"
   ]
  },
  {
   "cell_type": "code",
   "execution_count": null,
   "metadata": {},
   "outputs": [],
   "source": []
  },
  {
   "cell_type": "code",
   "execution_count": null,
   "metadata": {},
   "outputs": [],
   "source": []
  },
  {
   "cell_type": "markdown",
   "metadata": {},
   "source": [
    "## Data Prep"
   ]
  },
  {
   "cell_type": "code",
   "execution_count": 139,
   "metadata": {
    "scrolled": true
   },
   "outputs": [
    {
     "data": {
      "text/html": [
       "<div>\n",
       "<style scoped>\n",
       "    .dataframe tbody tr th:only-of-type {\n",
       "        vertical-align: middle;\n",
       "    }\n",
       "\n",
       "    .dataframe tbody tr th {\n",
       "        vertical-align: top;\n",
       "    }\n",
       "\n",
       "    .dataframe thead th {\n",
       "        text-align: right;\n",
       "    }\n",
       "</style>\n",
       "<table border=\"1\" class=\"dataframe\">\n",
       "  <thead>\n",
       "    <tr style=\"text-align: right;\">\n",
       "      <th></th>\n",
       "      <th>SID</th>\n",
       "      <th>Creative_Name</th>\n",
       "      <th>aware</th>\n",
       "      <th>cons</th>\n",
       "      <th>purch</th>\n",
       "      <th>enjoy</th>\n",
       "      <th>brand</th>\n",
       "      <th>rel</th>\n",
       "      <th>b_appeal</th>\n",
       "      <th>aware_base</th>\n",
       "      <th>cons_base</th>\n",
       "      <th>purch_base</th>\n",
       "      <th>gender</th>\n",
       "      <th>north_america</th>\n",
       "      <th>emea</th>\n",
       "      <th>apac</th>\n",
       "      <th>mobile</th>\n",
       "      <th>desktop</th>\n",
       "      <th>s06</th>\n",
       "      <th>s15</th>\n",
       "      <th>s30</th>\n",
       "      <th>age_30</th>\n",
       "      <th>age_45</th>\n",
       "      <th>p_low</th>\n",
       "      <th>p_high</th>\n",
       "      <th>pro_nexus</th>\n",
       "      <th>pro_android_os</th>\n",
       "      <th>pro_chromebook</th>\n",
       "      <th>pro_chromecast_aud</th>\n",
       "      <th>pro_chromecast</th>\n",
       "      <th>pro_google_play</th>\n",
       "      <th>pro_youtube_red</th>\n",
       "      <th>pro_youtube_music</th>\n",
       "      <th>pro_google_user</th>\n",
       "      <th>pro_google_photos</th>\n",
       "      <th>pro_g_suite</th>\n",
       "      <th>pro_pixel</th>\n",
       "      <th>pro_daydream</th>\n",
       "      <th>pro_android_pay</th>\n",
       "      <th>pro_google_home</th>\n",
       "      <th>pro_gsa</th>\n",
       "      <th>pro_google_assist</th>\n",
       "      <th>pro_youtube_tv</th>\n",
       "      <th>pro_android_wear</th>\n",
       "      <th>pro_fi</th>\n",
       "      <th>pro_youtube</th>\n",
       "      <th>pro_google_cloud</th>\n",
       "      <th>pro_google_express</th>\n",
       "      <th>pro_digital_skills</th>\n",
       "      <th>pro_feed</th>\n",
       "      <th>pro_google_home_mini</th>\n",
       "      <th>pro_duo</th>\n",
       "      <th>pro_ellen</th>\n",
       "      <th>pro_pixelbook</th>\n",
       "      <th>pro_google_duo</th>\n",
       "      <th>pro_pixel_2</th>\n",
       "      <th>pro_watercooler</th>\n",
       "      <th>pro_google_home_max</th>\n",
       "      <th>Real_World</th>\n",
       "      <th>Story_Driven</th>\n",
       "      <th>Event</th>\n",
       "      <th>Google_Logo_Upfront_Recode</th>\n",
       "      <th>Product_Logo_Upfront_Recode</th>\n",
       "      <th>Audio_Mention_Upfront_Recode</th>\n",
       "      <th>No_of_Visuals_Recode</th>\n",
       "      <th>Google_Logo_50</th>\n",
       "      <th>Product_Logo_50</th>\n",
       "      <th>Product_Shot_50</th>\n",
       "      <th>Text_on_End_Card</th>\n",
       "      <th>Demo</th>\n",
       "      <th>Front_Card</th>\n",
       "      <th>End_Card</th>\n",
       "      <th>Pop_Culture</th>\n",
       "      <th>Visually_Text_Only</th>\n",
       "      <th>Music</th>\n",
       "      <th>Voiceover</th>\n",
       "      <th>No_Product_Msgs_Recode</th>\n",
       "    </tr>\n",
       "  </thead>\n",
       "  <tbody>\n",
       "    <tr>\n",
       "      <th>0</th>\n",
       "      <td>266344</td>\n",
       "      <td>Nexus5AvailableNow15sec=266344B (Test)</td>\n",
       "      <td>0.478548</td>\n",
       "      <td>0.283828</td>\n",
       "      <td>0.369637</td>\n",
       "      <td>0.495050</td>\n",
       "      <td>0.693069</td>\n",
       "      <td>0.749175</td>\n",
       "      <td>0.577558</td>\n",
       "      <td>0.310000</td>\n",
       "      <td>0.18</td>\n",
       "      <td>0.36</td>\n",
       "      <td>0.287129</td>\n",
       "      <td>1</td>\n",
       "      <td>0</td>\n",
       "      <td>0</td>\n",
       "      <td>0</td>\n",
       "      <td>1</td>\n",
       "      <td>0</td>\n",
       "      <td>1</td>\n",
       "      <td>0</td>\n",
       "      <td>0.679868</td>\n",
       "      <td>0.0</td>\n",
       "      <td>0.0</td>\n",
       "      <td>1.0</td>\n",
       "      <td>1</td>\n",
       "      <td>0</td>\n",
       "      <td>0</td>\n",
       "      <td>0</td>\n",
       "      <td>0</td>\n",
       "      <td>0</td>\n",
       "      <td>0</td>\n",
       "      <td>0</td>\n",
       "      <td>0</td>\n",
       "      <td>0</td>\n",
       "      <td>0</td>\n",
       "      <td>0</td>\n",
       "      <td>0</td>\n",
       "      <td>0</td>\n",
       "      <td>0</td>\n",
       "      <td>0</td>\n",
       "      <td>0</td>\n",
       "      <td>0</td>\n",
       "      <td>0</td>\n",
       "      <td>0</td>\n",
       "      <td>0</td>\n",
       "      <td>0</td>\n",
       "      <td>0</td>\n",
       "      <td>0</td>\n",
       "      <td>0</td>\n",
       "      <td>0</td>\n",
       "      <td>0</td>\n",
       "      <td>0</td>\n",
       "      <td>0</td>\n",
       "      <td>0</td>\n",
       "      <td>0</td>\n",
       "      <td>0</td>\n",
       "      <td>0</td>\n",
       "      <td>animated</td>\n",
       "      <td>no</td>\n",
       "      <td>no</td>\n",
       "      <td>Zero</td>\n",
       "      <td>1+</td>\n",
       "      <td>Zero</td>\n",
       "      <td>Zero</td>\n",
       "      <td>no</td>\n",
       "      <td>yes</td>\n",
       "      <td>yes</td>\n",
       "      <td>yes</td>\n",
       "      <td>yes</td>\n",
       "      <td>yes</td>\n",
       "      <td>yes</td>\n",
       "      <td>no</td>\n",
       "      <td>No</td>\n",
       "      <td>yes</td>\n",
       "      <td>no</td>\n",
       "      <td>Zero</td>\n",
       "    </tr>\n",
       "    <tr>\n",
       "      <th>1</th>\n",
       "      <td>266344</td>\n",
       "      <td>Nexus5XAvailableNow30sec=266344A (Test)</td>\n",
       "      <td>0.544262</td>\n",
       "      <td>0.295082</td>\n",
       "      <td>0.432787</td>\n",
       "      <td>0.619672</td>\n",
       "      <td>0.780328</td>\n",
       "      <td>0.868852</td>\n",
       "      <td>0.704918</td>\n",
       "      <td>0.310000</td>\n",
       "      <td>0.18</td>\n",
       "      <td>0.36</td>\n",
       "      <td>0.268852</td>\n",
       "      <td>1</td>\n",
       "      <td>0</td>\n",
       "      <td>0</td>\n",
       "      <td>0</td>\n",
       "      <td>1</td>\n",
       "      <td>0</td>\n",
       "      <td>0</td>\n",
       "      <td>1</td>\n",
       "      <td>0.678689</td>\n",
       "      <td>0.0</td>\n",
       "      <td>0.0</td>\n",
       "      <td>1.0</td>\n",
       "      <td>1</td>\n",
       "      <td>0</td>\n",
       "      <td>0</td>\n",
       "      <td>0</td>\n",
       "      <td>0</td>\n",
       "      <td>0</td>\n",
       "      <td>0</td>\n",
       "      <td>0</td>\n",
       "      <td>0</td>\n",
       "      <td>0</td>\n",
       "      <td>0</td>\n",
       "      <td>0</td>\n",
       "      <td>0</td>\n",
       "      <td>0</td>\n",
       "      <td>0</td>\n",
       "      <td>0</td>\n",
       "      <td>0</td>\n",
       "      <td>0</td>\n",
       "      <td>0</td>\n",
       "      <td>0</td>\n",
       "      <td>0</td>\n",
       "      <td>0</td>\n",
       "      <td>0</td>\n",
       "      <td>0</td>\n",
       "      <td>0</td>\n",
       "      <td>0</td>\n",
       "      <td>0</td>\n",
       "      <td>0</td>\n",
       "      <td>0</td>\n",
       "      <td>0</td>\n",
       "      <td>0</td>\n",
       "      <td>0</td>\n",
       "      <td>0</td>\n",
       "      <td>animated</td>\n",
       "      <td>no</td>\n",
       "      <td>no</td>\n",
       "      <td>Zero</td>\n",
       "      <td>1+</td>\n",
       "      <td>Zero</td>\n",
       "      <td>One+</td>\n",
       "      <td>no</td>\n",
       "      <td>yes</td>\n",
       "      <td>yes</td>\n",
       "      <td>yes</td>\n",
       "      <td>yes</td>\n",
       "      <td>yes</td>\n",
       "      <td>yes</td>\n",
       "      <td>no</td>\n",
       "      <td>No</td>\n",
       "      <td>yes</td>\n",
       "      <td>no</td>\n",
       "      <td>Two+</td>\n",
       "    </tr>\n",
       "    <tr>\n",
       "      <th>2</th>\n",
       "      <td>266344</td>\n",
       "      <td>Nexus6PAvailableNow30Sec=266344C (Test)</td>\n",
       "      <td>0.590164</td>\n",
       "      <td>0.347541</td>\n",
       "      <td>0.445902</td>\n",
       "      <td>0.577049</td>\n",
       "      <td>0.793443</td>\n",
       "      <td>0.862295</td>\n",
       "      <td>0.714754</td>\n",
       "      <td>0.310000</td>\n",
       "      <td>0.18</td>\n",
       "      <td>0.36</td>\n",
       "      <td>0.340984</td>\n",
       "      <td>1</td>\n",
       "      <td>0</td>\n",
       "      <td>0</td>\n",
       "      <td>0</td>\n",
       "      <td>1</td>\n",
       "      <td>0</td>\n",
       "      <td>0</td>\n",
       "      <td>1</td>\n",
       "      <td>0.681967</td>\n",
       "      <td>0.0</td>\n",
       "      <td>0.0</td>\n",
       "      <td>1.0</td>\n",
       "      <td>1</td>\n",
       "      <td>0</td>\n",
       "      <td>0</td>\n",
       "      <td>0</td>\n",
       "      <td>0</td>\n",
       "      <td>0</td>\n",
       "      <td>0</td>\n",
       "      <td>0</td>\n",
       "      <td>0</td>\n",
       "      <td>0</td>\n",
       "      <td>0</td>\n",
       "      <td>0</td>\n",
       "      <td>0</td>\n",
       "      <td>0</td>\n",
       "      <td>0</td>\n",
       "      <td>0</td>\n",
       "      <td>0</td>\n",
       "      <td>0</td>\n",
       "      <td>0</td>\n",
       "      <td>0</td>\n",
       "      <td>0</td>\n",
       "      <td>0</td>\n",
       "      <td>0</td>\n",
       "      <td>0</td>\n",
       "      <td>0</td>\n",
       "      <td>0</td>\n",
       "      <td>0</td>\n",
       "      <td>0</td>\n",
       "      <td>0</td>\n",
       "      <td>0</td>\n",
       "      <td>0</td>\n",
       "      <td>0</td>\n",
       "      <td>0</td>\n",
       "      <td>animated</td>\n",
       "      <td>no</td>\n",
       "      <td>no</td>\n",
       "      <td>Zero</td>\n",
       "      <td>1+</td>\n",
       "      <td>Zero</td>\n",
       "      <td>Zero</td>\n",
       "      <td>no</td>\n",
       "      <td>yes</td>\n",
       "      <td>yes</td>\n",
       "      <td>yes</td>\n",
       "      <td>yes</td>\n",
       "      <td>yes</td>\n",
       "      <td>yes</td>\n",
       "      <td>no</td>\n",
       "      <td>No</td>\n",
       "      <td>yes</td>\n",
       "      <td>no</td>\n",
       "      <td>Two+</td>\n",
       "    </tr>\n",
       "    <tr>\n",
       "      <th>3</th>\n",
       "      <td>268118</td>\n",
       "      <td>Android Disco 30sec</td>\n",
       "      <td>0.923333</td>\n",
       "      <td>NaN</td>\n",
       "      <td>NaN</td>\n",
       "      <td>0.676667</td>\n",
       "      <td>0.756667</td>\n",
       "      <td>0.870000</td>\n",
       "      <td>0.676667</td>\n",
       "      <td>0.906667</td>\n",
       "      <td>NaN</td>\n",
       "      <td>NaN</td>\n",
       "      <td>0.326667</td>\n",
       "      <td>1</td>\n",
       "      <td>0</td>\n",
       "      <td>0</td>\n",
       "      <td>0</td>\n",
       "      <td>1</td>\n",
       "      <td>0</td>\n",
       "      <td>0</td>\n",
       "      <td>1</td>\n",
       "      <td>0.663333</td>\n",
       "      <td>0.0</td>\n",
       "      <td>NaN</td>\n",
       "      <td>NaN</td>\n",
       "      <td>0</td>\n",
       "      <td>1</td>\n",
       "      <td>0</td>\n",
       "      <td>0</td>\n",
       "      <td>0</td>\n",
       "      <td>0</td>\n",
       "      <td>0</td>\n",
       "      <td>0</td>\n",
       "      <td>0</td>\n",
       "      <td>0</td>\n",
       "      <td>0</td>\n",
       "      <td>0</td>\n",
       "      <td>0</td>\n",
       "      <td>0</td>\n",
       "      <td>0</td>\n",
       "      <td>0</td>\n",
       "      <td>0</td>\n",
       "      <td>0</td>\n",
       "      <td>0</td>\n",
       "      <td>0</td>\n",
       "      <td>0</td>\n",
       "      <td>0</td>\n",
       "      <td>0</td>\n",
       "      <td>0</td>\n",
       "      <td>0</td>\n",
       "      <td>0</td>\n",
       "      <td>0</td>\n",
       "      <td>0</td>\n",
       "      <td>0</td>\n",
       "      <td>0</td>\n",
       "      <td>0</td>\n",
       "      <td>0</td>\n",
       "      <td>0</td>\n",
       "      <td>real world</td>\n",
       "      <td>yes</td>\n",
       "      <td>no</td>\n",
       "      <td>1+</td>\n",
       "      <td>Zero</td>\n",
       "      <td>Zero</td>\n",
       "      <td>Zero</td>\n",
       "      <td>no</td>\n",
       "      <td>no</td>\n",
       "      <td>yes</td>\n",
       "      <td>yes</td>\n",
       "      <td>yes</td>\n",
       "      <td>yes</td>\n",
       "      <td>yes</td>\n",
       "      <td>no</td>\n",
       "      <td>No</td>\n",
       "      <td>yes</td>\n",
       "      <td>no</td>\n",
       "      <td>Two+</td>\n",
       "    </tr>\n",
       "    <tr>\n",
       "      <th>4</th>\n",
       "      <td>268118</td>\n",
       "      <td>Android Fog 30sec</td>\n",
       "      <td>0.920530</td>\n",
       "      <td>NaN</td>\n",
       "      <td>NaN</td>\n",
       "      <td>0.658940</td>\n",
       "      <td>0.751656</td>\n",
       "      <td>0.850993</td>\n",
       "      <td>0.639073</td>\n",
       "      <td>0.906667</td>\n",
       "      <td>NaN</td>\n",
       "      <td>NaN</td>\n",
       "      <td>0.284768</td>\n",
       "      <td>1</td>\n",
       "      <td>0</td>\n",
       "      <td>0</td>\n",
       "      <td>0</td>\n",
       "      <td>1</td>\n",
       "      <td>0</td>\n",
       "      <td>0</td>\n",
       "      <td>1</td>\n",
       "      <td>0.652318</td>\n",
       "      <td>0.0</td>\n",
       "      <td>NaN</td>\n",
       "      <td>NaN</td>\n",
       "      <td>0</td>\n",
       "      <td>1</td>\n",
       "      <td>0</td>\n",
       "      <td>0</td>\n",
       "      <td>0</td>\n",
       "      <td>0</td>\n",
       "      <td>0</td>\n",
       "      <td>0</td>\n",
       "      <td>0</td>\n",
       "      <td>0</td>\n",
       "      <td>0</td>\n",
       "      <td>0</td>\n",
       "      <td>0</td>\n",
       "      <td>0</td>\n",
       "      <td>0</td>\n",
       "      <td>0</td>\n",
       "      <td>0</td>\n",
       "      <td>0</td>\n",
       "      <td>0</td>\n",
       "      <td>0</td>\n",
       "      <td>0</td>\n",
       "      <td>0</td>\n",
       "      <td>0</td>\n",
       "      <td>0</td>\n",
       "      <td>0</td>\n",
       "      <td>0</td>\n",
       "      <td>0</td>\n",
       "      <td>0</td>\n",
       "      <td>0</td>\n",
       "      <td>0</td>\n",
       "      <td>0</td>\n",
       "      <td>0</td>\n",
       "      <td>0</td>\n",
       "      <td>real world</td>\n",
       "      <td>yes</td>\n",
       "      <td>no</td>\n",
       "      <td>1+</td>\n",
       "      <td>1+</td>\n",
       "      <td>Zero</td>\n",
       "      <td>Zero</td>\n",
       "      <td>no</td>\n",
       "      <td>no</td>\n",
       "      <td>yes</td>\n",
       "      <td>yes</td>\n",
       "      <td>yes</td>\n",
       "      <td>yes</td>\n",
       "      <td>yes</td>\n",
       "      <td>no</td>\n",
       "      <td>No</td>\n",
       "      <td>yes</td>\n",
       "      <td>yes</td>\n",
       "      <td>One</td>\n",
       "    </tr>\n",
       "  </tbody>\n",
       "</table>\n",
       "</div>"
      ],
      "text/plain": [
       "      SID                            Creative_Name     aware      cons  \\\n",
       "0  266344   Nexus5AvailableNow15sec=266344B (Test)  0.478548  0.283828   \n",
       "1  266344  Nexus5XAvailableNow30sec=266344A (Test)  0.544262  0.295082   \n",
       "2  266344  Nexus6PAvailableNow30Sec=266344C (Test)  0.590164  0.347541   \n",
       "3  268118                      Android Disco 30sec  0.923333       NaN   \n",
       "4  268118                        Android Fog 30sec  0.920530       NaN   \n",
       "\n",
       "      purch     enjoy     brand       rel  b_appeal  aware_base  cons_base  \\\n",
       "0  0.369637  0.495050  0.693069  0.749175  0.577558    0.310000       0.18   \n",
       "1  0.432787  0.619672  0.780328  0.868852  0.704918    0.310000       0.18   \n",
       "2  0.445902  0.577049  0.793443  0.862295  0.714754    0.310000       0.18   \n",
       "3       NaN  0.676667  0.756667  0.870000  0.676667    0.906667        NaN   \n",
       "4       NaN  0.658940  0.751656  0.850993  0.639073    0.906667        NaN   \n",
       "\n",
       "   purch_base    gender  north_america  emea  apac  mobile  desktop  s06  s15  \\\n",
       "0        0.36  0.287129              1     0     0       0        1    0    1   \n",
       "1        0.36  0.268852              1     0     0       0        1    0    0   \n",
       "2        0.36  0.340984              1     0     0       0        1    0    0   \n",
       "3         NaN  0.326667              1     0     0       0        1    0    0   \n",
       "4         NaN  0.284768              1     0     0       0        1    0    0   \n",
       "\n",
       "   s30    age_30  age_45  p_low  p_high  pro_nexus  pro_android_os  \\\n",
       "0    0  0.679868     0.0    0.0     1.0          1               0   \n",
       "1    1  0.678689     0.0    0.0     1.0          1               0   \n",
       "2    1  0.681967     0.0    0.0     1.0          1               0   \n",
       "3    1  0.663333     0.0    NaN     NaN          0               1   \n",
       "4    1  0.652318     0.0    NaN     NaN          0               1   \n",
       "\n",
       "   pro_chromebook  pro_chromecast_aud  pro_chromecast  pro_google_play  \\\n",
       "0               0                   0               0                0   \n",
       "1               0                   0               0                0   \n",
       "2               0                   0               0                0   \n",
       "3               0                   0               0                0   \n",
       "4               0                   0               0                0   \n",
       "\n",
       "   pro_youtube_red  pro_youtube_music  pro_google_user  pro_google_photos  \\\n",
       "0                0                  0                0                  0   \n",
       "1                0                  0                0                  0   \n",
       "2                0                  0                0                  0   \n",
       "3                0                  0                0                  0   \n",
       "4                0                  0                0                  0   \n",
       "\n",
       "   pro_g_suite  pro_pixel  pro_daydream  pro_android_pay  pro_google_home  \\\n",
       "0            0          0             0                0                0   \n",
       "1            0          0             0                0                0   \n",
       "2            0          0             0                0                0   \n",
       "3            0          0             0                0                0   \n",
       "4            0          0             0                0                0   \n",
       "\n",
       "   pro_gsa  pro_google_assist  pro_youtube_tv  pro_android_wear  pro_fi  \\\n",
       "0        0                  0               0                 0       0   \n",
       "1        0                  0               0                 0       0   \n",
       "2        0                  0               0                 0       0   \n",
       "3        0                  0               0                 0       0   \n",
       "4        0                  0               0                 0       0   \n",
       "\n",
       "   pro_youtube  pro_google_cloud  pro_google_express  pro_digital_skills  \\\n",
       "0            0                 0                   0                   0   \n",
       "1            0                 0                   0                   0   \n",
       "2            0                 0                   0                   0   \n",
       "3            0                 0                   0                   0   \n",
       "4            0                 0                   0                   0   \n",
       "\n",
       "   pro_feed  pro_google_home_mini  pro_duo  pro_ellen  pro_pixelbook  \\\n",
       "0         0                     0        0          0              0   \n",
       "1         0                     0        0          0              0   \n",
       "2         0                     0        0          0              0   \n",
       "3         0                     0        0          0              0   \n",
       "4         0                     0        0          0              0   \n",
       "\n",
       "   pro_google_duo  pro_pixel_2  pro_watercooler  pro_google_home_max  \\\n",
       "0               0            0                0                    0   \n",
       "1               0            0                0                    0   \n",
       "2               0            0                0                    0   \n",
       "3               0            0                0                    0   \n",
       "4               0            0                0                    0   \n",
       "\n",
       "   Real_World Story_Driven Event Google_Logo_Upfront_Recode  \\\n",
       "0    animated           no    no                       Zero   \n",
       "1    animated           no    no                       Zero   \n",
       "2    animated           no    no                       Zero   \n",
       "3  real world          yes    no                         1+   \n",
       "4  real world          yes    no                         1+   \n",
       "\n",
       "  Product_Logo_Upfront_Recode Audio_Mention_Upfront_Recode  \\\n",
       "0                          1+                         Zero   \n",
       "1                          1+                         Zero   \n",
       "2                          1+                         Zero   \n",
       "3                        Zero                         Zero   \n",
       "4                          1+                         Zero   \n",
       "\n",
       "  No_of_Visuals_Recode Google_Logo_50 Product_Logo_50 Product_Shot_50  \\\n",
       "0                 Zero             no             yes             yes   \n",
       "1                 One+             no             yes             yes   \n",
       "2                 Zero             no             yes             yes   \n",
       "3                 Zero             no              no             yes   \n",
       "4                 Zero             no              no             yes   \n",
       "\n",
       "  Text_on_End_Card Demo Front_Card End_Card Pop_Culture Visually_Text_Only  \\\n",
       "0              yes  yes        yes      yes          no                 No   \n",
       "1              yes  yes        yes      yes          no                 No   \n",
       "2              yes  yes        yes      yes          no                 No   \n",
       "3              yes  yes        yes      yes          no                 No   \n",
       "4              yes  yes        yes      yes          no                 No   \n",
       "\n",
       "  Music Voiceover No_Product_Msgs_Recode  \n",
       "0   yes        no                   Zero  \n",
       "1   yes        no                   Two+  \n",
       "2   yes        no                   Two+  \n",
       "3   yes        no                   Two+  \n",
       "4   yes       yes                    One  "
      ]
     },
     "execution_count": 139,
     "metadata": {},
     "output_type": "execute_result"
    }
   ],
   "source": [
    "df_raw.head()"
   ]
  },
  {
   "cell_type": "code",
   "execution_count": 140,
   "metadata": {},
   "outputs": [
    {
     "data": {
      "text/plain": [
       "(434, 77)"
      ]
     },
     "execution_count": 140,
     "metadata": {},
     "output_type": "execute_result"
    }
   ],
   "source": [
    "df_raw.shape"
   ]
  },
  {
   "cell_type": "code",
   "execution_count": 141,
   "metadata": {},
   "outputs": [
    {
     "data": {
      "text/plain": [
       "Index(['SID', 'Creative_Name', 'aware', 'cons', 'purch', 'enjoy', 'brand',\n",
       "       'rel', 'b_appeal', 'aware_base', 'cons_base', 'purch_base', 'gender',\n",
       "       'north_america', 'emea', 'apac', 'mobile', 'desktop', 's06', 's15',\n",
       "       's30', 'age_30', 'age_45', 'p_low', 'p_high', 'pro_nexus',\n",
       "       'pro_android_os', 'pro_chromebook', 'pro_chromecast_aud',\n",
       "       'pro_chromecast', 'pro_google_play', 'pro_youtube_red',\n",
       "       'pro_youtube_music', 'pro_google_user', 'pro_google_photos',\n",
       "       'pro_g_suite', 'pro_pixel', 'pro_daydream', 'pro_android_pay',\n",
       "       'pro_google_home', 'pro_gsa', 'pro_google_assist', 'pro_youtube_tv',\n",
       "       'pro_android_wear', 'pro_fi', 'pro_youtube', 'pro_google_cloud',\n",
       "       'pro_google_express', 'pro_digital_skills', 'pro_feed',\n",
       "       'pro_google_home_mini', 'pro_duo', 'pro_ellen', 'pro_pixelbook',\n",
       "       'pro_google_duo', 'pro_pixel_2', 'pro_watercooler',\n",
       "       'pro_google_home_max', 'Real_World', 'Story_Driven', 'Event',\n",
       "       'Google_Logo_Upfront_Recode', 'Product_Logo_Upfront_Recode',\n",
       "       'Audio_Mention_Upfront_Recode', 'No_of_Visuals_Recode',\n",
       "       'Google_Logo_50', 'Product_Logo_50', 'Product_Shot_50',\n",
       "       'Text_on_End_Card', 'Demo', 'Front_Card', 'End_Card', 'Pop_Culture',\n",
       "       'Visually_Text_Only', 'Music', 'Voiceover', 'No_Product_Msgs_Recode'],\n",
       "      dtype='object')"
      ]
     },
     "execution_count": 141,
     "metadata": {},
     "output_type": "execute_result"
    }
   ],
   "source": [
    "df_raw.columns"
   ]
  },
  {
   "cell_type": "code",
   "execution_count": 142,
   "metadata": {},
   "outputs": [],
   "source": [
    "df = df_raw[[\n",
    "    'aware', \n",
    "    'cons', \n",
    "    'purch', \n",
    "    \n",
    "    'north_america', \n",
    "    'emea', \n",
    "    'apac', \n",
    "    'mobile', \n",
    "    'desktop', \n",
    "    's06',\n",
    "    's15', \n",
    "    's30',\n",
    "    'pro_nexus', \n",
    "    'pro_android_os',   \n",
    "    'pro_chromebook', \n",
    "    'pro_chromecast_aud', \n",
    "    'pro_chromecast',\n",
    "    'pro_google_play', \n",
    "    'pro_youtube_red', \n",
    "    'pro_youtube_music',\n",
    "    'pro_google_user', \n",
    "    'pro_google_photos', \n",
    "    'pro_g_suite', \n",
    "    'pro_pixel',\n",
    "    'pro_daydream', \n",
    "    'pro_android_pay', \n",
    "    'pro_google_home', \n",
    "    'pro_gsa',\n",
    "    'pro_google_assist', \n",
    "    'pro_youtube_tv', \n",
    "    'pro_android_wear', \n",
    "    'pro_fi',\n",
    "    'pro_youtube', \n",
    "    'pro_google_cloud', \n",
    "    'pro_google_express',\n",
    "    'pro_digital_skills', \n",
    "    'pro_feed',\n",
    "    'pro_google_home_mini', \n",
    "    'pro_duo',\n",
    "    'pro_ellen', \n",
    "    'pro_pixelbook', \n",
    "    'pro_google_duo', \n",
    "    'pro_pixel_2',\n",
    "    'pro_watercooler', \n",
    "    'pro_google_home_max', \n",
    "    \n",
    "    'Real_World', \n",
    "    'Story_Driven',\n",
    "    'Event', \n",
    "    'Google_Logo_Upfront_Recode', \n",
    "    'Product_Logo_Upfront_Recode',\n",
    "    'Audio_Mention_Upfront_Recode', \n",
    "    'No_of_Visuals_Recode',\n",
    "    'Google_Logo_50', \n",
    "    'Product_Logo_50', \n",
    "    'Product_Shot_50',\n",
    "    'Text_on_End_Card', \n",
    "    'Demo', \n",
    "    'Front_Card', \n",
    "    'Pop_Culture',\n",
    "    'Music', \n",
    "    'Voiceover', \n",
    "    'No_Product_Msgs_Recode'\n",
    "]]"
   ]
  },
  {
   "cell_type": "code",
   "execution_count": 143,
   "metadata": {},
   "outputs": [],
   "source": [
    "df = pd.get_dummies(df, columns = [\n",
    "    'Real_World', \n",
    "    'Story_Driven',\n",
    "    'Event', \n",
    "    'Google_Logo_Upfront_Recode', \n",
    "    'Product_Logo_Upfront_Recode',\n",
    "    'Audio_Mention_Upfront_Recode', \n",
    "    'No_of_Visuals_Recode',\n",
    "    'Google_Logo_50', \n",
    "    'Product_Logo_50', \n",
    "    'Product_Shot_50',\n",
    "    'Text_on_End_Card', \n",
    "    'Demo', \n",
    "    'Front_Card', \n",
    "    'Pop_Culture',\n",
    "    'Music', \n",
    "    'Voiceover', \n",
    "    'No_Product_Msgs_Recode'\n",
    "])"
   ]
  },
  {
   "cell_type": "code",
   "execution_count": null,
   "metadata": {},
   "outputs": [],
   "source": []
  },
  {
   "cell_type": "code",
   "execution_count": null,
   "metadata": {},
   "outputs": [],
   "source": []
  },
  {
   "cell_type": "markdown",
   "metadata": {},
   "source": [
    "## Model KPI Rates"
   ]
  },
  {
   "cell_type": "markdown",
   "metadata": {},
   "source": [
    "### Awareness"
   ]
  },
  {
   "cell_type": "code",
   "execution_count": 174,
   "metadata": {},
   "outputs": [],
   "source": [
    "df_aware = df.drop(axis=1, columns=['cons', 'purch']).dropna()\n",
    "X = df_aware.drop(axis=1, columns=['aware'])\n",
    "y_aware = df_aware['aware']"
   ]
  },
  {
   "cell_type": "code",
   "execution_count": 175,
   "metadata": {},
   "outputs": [],
   "source": [
    "from sklearn.model_selection import train_test_split\n",
    "\n",
    "X_train, X_test, y_train, y_test = train_test_split(X, y_aware, test_size=0.2, random_state=42)"
   ]
  },
  {
   "cell_type": "code",
   "execution_count": 176,
   "metadata": {},
   "outputs": [
    {
     "data": {
      "text/plain": [
       "GridSearchCV(cv=None, error_score='raise',\n",
       "       estimator=RandomForestRegressor(bootstrap=True, criterion='mse', max_depth=None,\n",
       "           max_features='auto', max_leaf_nodes=None,\n",
       "           min_impurity_split=1e-07, min_samples_leaf=1,\n",
       "           min_samples_split=2, min_weight_fraction_leaf=0.0,\n",
       "           n_estimators=10, n_jobs=1, oob_score=False, random_state=42,\n",
       "           verbose=0, warm_start=False),\n",
       "       fit_params={}, iid=True, n_jobs=1,\n",
       "       param_grid=[{'n_estimators': [10, 25, 50, 250, 500], 'max_depth': [1, 2, 6, 10], 'max_features': ['auto']}],\n",
       "       pre_dispatch='2*n_jobs', refit=True, return_train_score=True,\n",
       "       scoring=None, verbose=0)"
      ]
     },
     "execution_count": 176,
     "metadata": {},
     "output_type": "execute_result"
    }
   ],
   "source": [
    "from sklearn.ensemble import RandomForestRegressor\n",
    "from sklearn.model_selection import GridSearchCV\n",
    "\n",
    "params = [{\n",
    "    'n_estimators': [10, 25, 50, 250, 500],\n",
    "    'max_depth': [1, 2, 6, 10],\n",
    "    'max_features': ['auto'] \n",
    "}]\n",
    "\n",
    "rf_aware = RandomForestRegressor(random_state=42)\n",
    "rf_grid_aware = GridSearchCV(rf_aware, params)\n",
    "rf_grid_aware.fit(X_train, y_train)"
   ]
  },
  {
   "cell_type": "code",
   "execution_count": 177,
   "metadata": {},
   "outputs": [
    {
     "data": {
      "text/plain": [
       "0.1123239697902879"
      ]
     },
     "execution_count": 177,
     "metadata": {},
     "output_type": "execute_result"
    }
   ],
   "source": [
    "from sklearn.metrics import mean_squared_error\n",
    "\n",
    "rmse_aware = mean_squared_error(y_test, rf_grid_aware.best_estimator_.predict(X_test))**0.5\n",
    "\n",
    "rmse_aware"
   ]
  },
  {
   "cell_type": "code",
   "execution_count": 178,
   "metadata": {},
   "outputs": [],
   "source": [
    "rf_aware = rf_grid_aware.best_estimator_"
   ]
  },
  {
   "cell_type": "code",
   "execution_count": 183,
   "metadata": {},
   "outputs": [
    {
     "data": {
      "text/plain": [
       "<matplotlib.axes._subplots.AxesSubplot at 0x1f7ce0895c0>"
      ]
     },
     "execution_count": 183,
     "metadata": {},
     "output_type": "execute_result"
    },
    {
     "data": {
      "image/png": "[encoded data removed]",
      "text/plain": [
       "<matplotlib.figure.Figure at 0x1f7d0193390>"
      ]
     },
     "metadata": {},
     "output_type": "display_data"
    }
   ],
   "source": [
    "residuals = y_test-rf_grid_aware.best_estimator_.predict(X_test)\n",
    "pd.Series(residuals).hist()"
   ]
  },
  {
   "cell_type": "code",
   "execution_count": null,
   "metadata": {},
   "outputs": [],
   "source": []
  },
  {
   "cell_type": "code",
   "execution_count": null,
   "metadata": {},
   "outputs": [],
   "source": []
  },
  {
   "cell_type": "markdown",
   "metadata": {},
   "source": [
    "### Consideration"
   ]
  },
  {
   "cell_type": "code",
   "execution_count": 184,
   "metadata": {},
   "outputs": [],
   "source": [
    "df_cons = df.drop(axis=1, columns=['aware', 'purch']).dropna()\n",
    "X = df_cons.drop(axis=1, columns=['cons'])\n",
    "y_cons = df_cons['cons']"
   ]
  },
  {
   "cell_type": "code",
   "execution_count": 185,
   "metadata": {},
   "outputs": [],
   "source": [
    "X_train, X_test, y_train, y_test = train_test_split(X, y_cons, test_size=0.2, random_state=42)"
   ]
  },
  {
   "cell_type": "code",
   "execution_count": 186,
   "metadata": {},
   "outputs": [
    {
     "data": {
      "text/plain": [
       "GridSearchCV(cv=None, error_score='raise',\n",
       "       estimator=RandomForestRegressor(bootstrap=True, criterion='mse', max_depth=None,\n",
       "           max_features='auto', max_leaf_nodes=None,\n",
       "           min_impurity_split=1e-07, min_samples_leaf=1,\n",
       "           min_samples_split=2, min_weight_fraction_leaf=0.0,\n",
       "           n_estimators=10, n_jobs=1, oob_score=False, random_state=42,\n",
       "           verbose=0, warm_start=False),\n",
       "       fit_params={}, iid=True, n_jobs=1,\n",
       "       param_grid=[{'n_estimators': [10, 25, 50, 250, 500], 'max_depth': [1, 2, 6, 10], 'max_features': ['auto']}],\n",
       "       pre_dispatch='2*n_jobs', refit=True, return_train_score=True,\n",
       "       scoring=None, verbose=0)"
      ]
     },
     "execution_count": 186,
     "metadata": {},
     "output_type": "execute_result"
    }
   ],
   "source": [
    "params = [{\n",
    "    'n_estimators': [10, 25, 50, 250, 500],\n",
    "    'max_depth': [1, 2, 6, 10],\n",
    "    'max_features': ['auto'] \n",
    "}]\n",
    "\n",
    "rf_cons = RandomForestRegressor(random_state=42)\n",
    "rf_grid_cons = GridSearchCV(rf_cons, params)\n",
    "rf_grid_cons.fit(X_train, y_train)"
   ]
  },
  {
   "cell_type": "code",
   "execution_count": 187,
   "metadata": {},
   "outputs": [
    {
     "data": {
      "text/plain": [
       "0.05110234872177124"
      ]
     },
     "execution_count": 187,
     "metadata": {},
     "output_type": "execute_result"
    }
   ],
   "source": [
    "rmse_cons = mean_squared_error(y_test, rf_grid_cons.best_estimator_.predict(X_test))**0.5\n",
    "\n",
    "rmse_cons"
   ]
  },
  {
   "cell_type": "code",
   "execution_count": 188,
   "metadata": {},
   "outputs": [],
   "source": [
    "rf_cons = rf_grid_cons.best_estimator_"
   ]
  },
  {
   "cell_type": "code",
   "execution_count": 189,
   "metadata": {},
   "outputs": [
    {
     "data": {
      "text/plain": [
       "<matplotlib.axes._subplots.AxesSubplot at 0x1f7d1286400>"
      ]
     },
     "execution_count": 189,
     "metadata": {},
     "output_type": "execute_result"
    },
    {
     "data": {
      "image/png": "[encoded data removed]",
      "text/plain": [
       "<matplotlib.figure.Figure at 0x1f7ce166fd0>"
      ]
     },
     "metadata": {},
     "output_type": "display_data"
    }
   ],
   "source": [
    "residuals = y_test-rf_grid_cons.best_estimator_.predict(X_test)\n",
    "pd.Series(residuals).hist()"
   ]
  },
  {
   "cell_type": "code",
   "execution_count": null,
   "metadata": {},
   "outputs": [],
   "source": []
  },
  {
   "cell_type": "code",
   "execution_count": null,
   "metadata": {},
   "outputs": [],
   "source": []
  },
  {
   "cell_type": "markdown",
   "metadata": {},
   "source": [
    "### Purchase"
   ]
  },
  {
   "cell_type": "code",
   "execution_count": 190,
   "metadata": {},
   "outputs": [],
   "source": [
    "df_purch = df.drop(axis=1, columns=['aware', 'cons']).dropna()\n",
    "X = df_purch.drop(axis=1, columns=['purch'])\n",
    "y_purch = df_purch['purch']"
   ]
  },
  {
   "cell_type": "code",
   "execution_count": 191,
   "metadata": {},
   "outputs": [],
   "source": [
    "X_train, X_test, y_train, y_test = train_test_split(X, y_purch, test_size=0.2, random_state=42)"
   ]
  },
  {
   "cell_type": "code",
   "execution_count": 192,
   "metadata": {},
   "outputs": [
    {
     "data": {
      "text/plain": [
       "GridSearchCV(cv=None, error_score='raise',\n",
       "       estimator=RandomForestRegressor(bootstrap=True, criterion='mse', max_depth=None,\n",
       "           max_features='auto', max_leaf_nodes=None,\n",
       "           min_impurity_split=1e-07, min_samples_leaf=1,\n",
       "           min_samples_split=2, min_weight_fraction_leaf=0.0,\n",
       "           n_estimators=10, n_jobs=1, oob_score=False, random_state=42,\n",
       "           verbose=0, warm_start=False),\n",
       "       fit_params={}, iid=True, n_jobs=1,\n",
       "       param_grid=[{'n_estimators': [10, 25, 50, 250, 500], 'max_depth': [1, 2, 6, 10], 'max_features': ['auto']}],\n",
       "       pre_dispatch='2*n_jobs', refit=True, return_train_score=True,\n",
       "       scoring=None, verbose=0)"
      ]
     },
     "execution_count": 192,
     "metadata": {},
     "output_type": "execute_result"
    }
   ],
   "source": [
    "params = [{\n",
    "    'n_estimators': [10, 25, 50, 250, 500],\n",
    "    'max_depth': [1, 2, 6, 10],\n",
    "    'max_features': ['auto'] \n",
    "}]\n",
    "\n",
    "rf_purch = RandomForestRegressor(random_state=42)\n",
    "rf_grid_purch = GridSearchCV(rf_purch, params)\n",
    "rf_grid_purch.fit(X_train, y_train)"
   ]
  },
  {
   "cell_type": "code",
   "execution_count": 193,
   "metadata": {},
   "outputs": [
    {
     "data": {
      "text/plain": [
       "0.07838654440639152"
      ]
     },
     "execution_count": 193,
     "metadata": {},
     "output_type": "execute_result"
    }
   ],
   "source": [
    "rmse_purch = mean_squared_error(y_test, rf_grid_purch.best_estimator_.predict(X_test))**0.5\n",
    "\n",
    "rmse_purch"
   ]
  },
  {
   "cell_type": "code",
   "execution_count": 194,
   "metadata": {},
   "outputs": [],
   "source": [
    "rf_purch = rf_grid_purch.best_estimator_"
   ]
  },
  {
   "cell_type": "code",
   "execution_count": 195,
   "metadata": {
    "scrolled": true
   },
   "outputs": [
    {
     "data": {
      "text/plain": [
       "<matplotlib.axes._subplots.AxesSubplot at 0x1f7d1355eb8>"
      ]
     },
     "execution_count": 195,
     "metadata": {},
     "output_type": "execute_result"
    },
    {
     "data": {
      "image/png": "[encoded data removed]",
      "text/plain": [
       "<matplotlib.figure.Figure at 0x1f7ce187828>"
      ]
     },
     "metadata": {},
     "output_type": "display_data"
    }
   ],
   "source": [
    "residuals = y_test-rf_grid_purch.best_estimator_.predict(X_test)\n",
    "pd.Series(residuals).hist()"
   ]
  },
  {
   "cell_type": "code",
   "execution_count": null,
   "metadata": {},
   "outputs": [],
   "source": []
  },
  {
   "cell_type": "code",
   "execution_count": null,
   "metadata": {},
   "outputs": [],
   "source": []
  },
  {
   "cell_type": "markdown",
   "metadata": {},
   "source": [
    "### Save Models"
   ]
  },
  {
   "cell_type": "code",
   "execution_count": 159,
   "metadata": {},
   "outputs": [
    {
     "data": {
      "text/plain": [
       "['C:\\\\Users\\\\william.raikes\\\\Programming\\\\Python\\\\Creative_Elements_App\\\\model_building\\\\pickled_models\\\\rf_purch_creative.pkl']"
      ]
     },
     "execution_count": 159,
     "metadata": {},
     "output_type": "execute_result"
    }
   ],
   "source": [
    "from sklearn.externals import joblib\n",
    "\n",
    "joblib.dump(rf_aware, r'C:\\Users\\william.raikes\\Programming\\Python\\Creative_Elements_App\\model_building\\pickled_models\\rf_aware_creative.pkl') \n",
    "joblib.dump(rf_cons, r'C:\\Users\\william.raikes\\Programming\\Python\\Creative_Elements_App\\model_building\\pickled_models\\rf_cons_creative.pkl') \n",
    "joblib.dump(rf_purch, r'C:\\Users\\william.raikes\\Programming\\Python\\Creative_Elements_App\\model_building\\pickled_models\\rf_purch_creative.pkl') "
   ]
  },
  {
   "cell_type": "code",
   "execution_count": null,
   "metadata": {},
   "outputs": [],
   "source": []
  },
  {
   "cell_type": "code",
   "execution_count": null,
   "metadata": {},
   "outputs": [],
   "source": []
  },
  {
   "cell_type": "code",
   "execution_count": null,
   "metadata": {},
   "outputs": [],
   "source": []
  },
  {
   "cell_type": "code",
   "execution_count": null,
   "metadata": {},
   "outputs": [],
   "source": []
  },
  {
   "cell_type": "code",
   "execution_count": null,
   "metadata": {},
   "outputs": [],
   "source": []
  },
  {
   "cell_type": "markdown",
   "metadata": {},
   "source": [
    "### Test Prediction \n",
    "\n",
    "See how well it does with real scenarios, not just metric scores."
   ]
  },
  {
   "cell_type": "code",
   "execution_count": 202,
   "metadata": {},
   "outputs": [
    {
     "name": "stderr",
     "output_type": "stream",
     "text": [
      "c:\\users\\william.raikes\\appdata\\local\\programs\\python\\python36\\lib\\site-packages\\sklearn\\utils\\validation.py:395: DeprecationWarning: Passing 1d arrays as data is deprecated in 0.17 and will raise ValueError in 0.19. Reshape your data either using X.reshape(-1, 1) if your data has a single feature or X.reshape(1, -1) if it contains a single sample.\n",
      "  DeprecationWarning)\n",
      "c:\\users\\william.raikes\\appdata\\local\\programs\\python\\python36\\lib\\site-packages\\sklearn\\utils\\validation.py:395: DeprecationWarning: Passing 1d arrays as data is deprecated in 0.17 and will raise ValueError in 0.19. Reshape your data either using X.reshape(-1, 1) if your data has a single feature or X.reshape(1, -1) if it contains a single sample.\n",
      "  DeprecationWarning)\n",
      "c:\\users\\william.raikes\\appdata\\local\\programs\\python\\python36\\lib\\site-packages\\sklearn\\utils\\validation.py:395: DeprecationWarning: Passing 1d arrays as data is deprecated in 0.17 and will raise ValueError in 0.19. Reshape your data either using X.reshape(-1, 1) if your data has a single feature or X.reshape(1, -1) if it contains a single sample.\n",
      "  DeprecationWarning)\n"
     ]
    },
    {
     "data": {
      "text/plain": [
       "(array([0.70293704]), array([0.26437393]), array([0.28854445]))"
      ]
     },
     "execution_count": 202,
     "metadata": {},
     "output_type": "execute_result"
    }
   ],
   "source": [
    "rf_aware.predict(df.iloc[100, 3:]), rf_cons.predict(df.iloc[100, 3:]), rf_purch.predict(df.iloc[100, 3:])"
   ]
  },
  {
   "cell_type": "code",
   "execution_count": null,
   "metadata": {},
   "outputs": [],
   "source": []
  },
  {
   "cell_type": "code",
   "execution_count": null,
   "metadata": {},
   "outputs": [],
   "source": []
  },
  {
   "cell_type": "code",
   "execution_count": null,
   "metadata": {},
   "outputs": [],
   "source": []
  }
 ],
 "metadata": {
  "kernelspec": {
   "display_name": "Python 3",
   "language": "python",
   "name": "python3"
  },
  "language_info": {
   "codemirror_mode": {
    "name": "ipython",
    "version": 3
   },
   "file_extension": ".py",
   "mimetype": "text/x-python",
   "name": "python",
   "nbconvert_exporter": "python",
   "pygments_lexer": "ipython3",
   "version": "3.6.4"
  }
 },
 "nbformat": 4,
 "nbformat_minor": 2
}
